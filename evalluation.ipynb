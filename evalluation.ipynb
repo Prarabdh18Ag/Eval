{
 "cells": [
  {
   "cell_type": "code",
   "execution_count": null,
   "id": "156cc266",
   "metadata": {},
   "outputs": [],
   "source": []
  },
  {
   "cell_type": "code",
   "execution_count": null,
   "id": "f6bcd93b",
   "metadata": {},
   "outputs": [],
   "source": []
  },
  {
   "cell_type": "code",
   "execution_count": null,
   "id": "517c13f2",
   "metadata": {},
   "outputs": [],
   "source": []
  },
  {
   "cell_type": "code",
   "execution_count": 13,
   "id": "850a0357",
   "metadata": {},
   "outputs": [
    {
     "name": "stdout",
     "output_type": "stream",
     "text": [
      "Enter task ID: 2\n",
      "Enter task name: 3\n",
      "Enter task status: 4\n",
      "Task '3' added with ID '2'.\n",
      "Enter task ID to update: 2\n",
      "Enter new task name: 7\n",
      "Enter new task status: 9\n",
      "Task with ID '2' updated.\n",
      "Enter task name to delete: 2\n",
      "ID         Name                 Status    \n",
      "2          7                    9         \n",
      "Enter task name or ID to search: 2\n",
      "ID         Name                 Status    \n",
      "2          7                    9         \n",
      "ID         Name                 Status    \n",
      "2          7                    9         \n"
     ]
    }
   ],
   "source": [
    "tasks={}\n",
    "task_id = input(\"Enter task ID: \")\n",
    "task_name = input(\"Enter task name: \")\n",
    "task_status = input(\"Enter task status: \")\n",
    "if task_id in tasks:\n",
    "    print(f\"Task with ID '{task_id}' already exists.\")\n",
    "tasks[task_id] = {'name': task_name, 'status': task_status}\n",
    "print(f\"Task '{task_name}' added with ID '{task_id}'.\")\n",
    "\n",
    "\n",
    "task_id = input(\"Enter task ID to update: \")\n",
    "new_name = input(\"Enter new task name: \")\n",
    "new_status = input(\"Enter new task status: \")\n",
    "if task_id not in tasks:\n",
    "    print(f\"Task with ID '{task_id}' does not exist.\")\n",
    "if new_name:\n",
    "    tasks[task_id]['name'] = new_name\n",
    "if new_status:\n",
    "    tasks[task_id]['status'] = new_status\n",
    "print(f\"Task with ID '{task_id}' updated.\")\n",
    "\n",
    "\n",
    "task_name = input(\"Enter task name to delete: \")\n",
    "to_delete = [task_id for task_id, task in tasks.items() if task['name'] == task_name]\n",
    "for task_id in to_delete:\n",
    "    del tasks[task_id]\n",
    "    print(f\"Task with name '{task_name}' deleted.\")\n",
    "\n",
    "        \n",
    "print(f\"{'ID':<10} {'Name':<20} {'Status':<10}\")\n",
    "for task_id, task in tasks.items():\n",
    "    print(f\"{task_id:<10} {task['name']:<20} {task['status']:<10}\")\n",
    "\n",
    "search_term = input(\"Enter task name or ID to search: \")\n",
    "found_tasks = [task for task in tasks.values() if search_term in task['name'] or search_term in tasks]\n",
    "if not found_tasks:\n",
    "    print(f\"No tasks found for search term '{search_term}'.\")\n",
    "print(f\"{'ID':<10} {'Name':<20} {'Status':<10}\")\n",
    "for task_id, task in tasks.items():\n",
    "    if search_term in task['name'] or search_term == task_id:\n",
    "        print(f\"{task_id:<10} {task['name']:<20} {task['status']:<10}\")\n",
    "\n",
    "\n",
    "print(f\"{'ID':<10} {'Name':<20} {'Status':<10}\")\n",
    "for task_id, task in tasks.items():\n",
    "    print(f\"{task_id:<10} {task['name']:<20} {task['status']:<10}\")"
   ]
  },
  {
   "cell_type": "code",
   "execution_count": null,
   "id": "3363d925",
   "metadata": {},
   "outputs": [],
   "source": []
  },
  {
   "cell_type": "code",
   "execution_count": null,
   "id": "c47d05fd",
   "metadata": {},
   "outputs": [],
   "source": []
  },
  {
   "cell_type": "code",
   "execution_count": null,
   "id": "86566e93",
   "metadata": {},
   "outputs": [],
   "source": [
    "\n",
    "\n",
    "\n",
    "\n",
    "\n",
    "\n"
   ]
  },
  {
   "cell_type": "code",
   "execution_count": null,
   "id": "d08e6b46",
   "metadata": {},
   "outputs": [],
   "source": []
  },
  {
   "cell_type": "code",
   "execution_count": null,
   "id": "80230c47",
   "metadata": {},
   "outputs": [],
   "source": []
  },
  {
   "cell_type": "code",
   "execution_count": null,
   "id": "3e0ad0df",
   "metadata": {},
   "outputs": [],
   "source": []
  },
  {
   "cell_type": "code",
   "execution_count": null,
   "id": "10dd9bac",
   "metadata": {},
   "outputs": [],
   "source": []
  },
  {
   "cell_type": "code",
   "execution_count": null,
   "id": "94ee6d93",
   "metadata": {},
   "outputs": [],
   "source": []
  }
 ],
 "metadata": {
  "kernelspec": {
   "display_name": "Python 3 (ipykernel)",
   "language": "python",
   "name": "python3"
  },
  "language_info": {
   "codemirror_mode": {
    "name": "ipython",
    "version": 3
   },
   "file_extension": ".py",
   "mimetype": "text/x-python",
   "name": "python",
   "nbconvert_exporter": "python",
   "pygments_lexer": "ipython3",
   "version": "3.11.5"
  }
 },
 "nbformat": 4,
 "nbformat_minor": 5
}
